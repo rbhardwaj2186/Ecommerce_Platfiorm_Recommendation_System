{
 "cells": [
  {
   "cell_type": "code",
   "execution_count": 2,
   "metadata": {},
   "outputs": [
    {
     "data": {
      "text/plain": [
       "[{'cell_type': 'code',\n",
       "  'execution_count': None,\n",
       "  'metadata': {},\n",
       "  'outputs': [],\n",
       "  'source': ''}]"
      ]
     },
     "execution_count": 2,
     "metadata": {},
     "output_type": "execute_result"
    }
   ],
   "source": [
    "import nbformat\n",
    "\n",
    "# Load the Jupyter notebook file\n",
    "file_path = 'D:/Work/Gre/UTD/Courses/Winter/Projects/Recommendation Systems/Kaggle/Recommendation_model_ecommerce.ipynb'\n",
    "with open(file_path, 'r') as file:\n",
    "    notebook = nbformat.read(file, as_version=4)\n",
    "\n",
    "# Extract the code cells and their outputs\n",
    "code_cells = [cell for cell in notebook.cells if cell.cell_type == 'code']\n",
    "code_cells"
   ]
  },
  {
   "cell_type": "markdown",
   "metadata": {},
   "source": [
    "## Import Libraries and Load Data\n",
    "#### The code imports necessary libraries such as pandas for data manipulation, numpy for numerical operations, and scikit-learn modules for machine learning."
   ]
  },
  {
   "cell_type": "code",
   "execution_count": 3,
   "metadata": {},
   "outputs": [],
   "source": [
    "import pandas as pd\n",
    "import numpy as np\n",
    "from sklearn.feature_extraction.text import TfidfVectorizer\n",
    "from sklearn.cluster import KMeans"
   ]
  },
  {
   "cell_type": "markdown",
   "metadata": {},
   "source": [
    "## Load Data\n",
    "#### The code loads the dataset from a CSV file and drops rows with missing values in the product_name column."
   ]
  },
  {
   "cell_type": "code",
   "execution_count": 10,
   "metadata": {},
   "outputs": [],
   "source": [
    "data = pd.read_csv('D:/Work/Gre/UTD/Courses/Winter/Projects/Recommendation Systems/Kaggle/ratings_Beauty.csv')\n",
    "data = data.dropna(subset=['ProductId'])\n",
    "data.reset_index(drop=True, inplace=True)"
   ]
  },
  {
   "cell_type": "markdown",
   "metadata": {},
   "source": [
    "## Text Vectorization\n",
    "#### Converts the product_name text data into a matrix of TF-IDF features."
   ]
  },
  {
   "cell_type": "code",
   "execution_count": 11,
   "metadata": {},
   "outputs": [],
   "source": [
    "vectorizer = TfidfVectorizer(stop_words='english')\n",
    "X = vectorizer.fit_transform(data['ProductId'])"
   ]
  },
  {
   "cell_type": "markdown",
   "metadata": {},
   "source": [
    "## Clustering\n",
    "#### Initializes and fits a K-Means clustering model with true_k clusters to the TF-IDF feature matrix."
   ]
  },
  {
   "cell_type": "code",
   "execution_count": 12,
   "metadata": {},
   "outputs": [
    {
     "data": {
      "text/html": [
       "<style>#sk-container-id-1 {color: black;}#sk-container-id-1 pre{padding: 0;}#sk-container-id-1 div.sk-toggleable {background-color: white;}#sk-container-id-1 label.sk-toggleable__label {cursor: pointer;display: block;width: 100%;margin-bottom: 0;padding: 0.3em;box-sizing: border-box;text-align: center;}#sk-container-id-1 label.sk-toggleable__label-arrow:before {content: \"▸\";float: left;margin-right: 0.25em;color: #696969;}#sk-container-id-1 label.sk-toggleable__label-arrow:hover:before {color: black;}#sk-container-id-1 div.sk-estimator:hover label.sk-toggleable__label-arrow:before {color: black;}#sk-container-id-1 div.sk-toggleable__content {max-height: 0;max-width: 0;overflow: hidden;text-align: left;background-color: #f0f8ff;}#sk-container-id-1 div.sk-toggleable__content pre {margin: 0.2em;color: black;border-radius: 0.25em;background-color: #f0f8ff;}#sk-container-id-1 input.sk-toggleable__control:checked~div.sk-toggleable__content {max-height: 200px;max-width: 100%;overflow: auto;}#sk-container-id-1 input.sk-toggleable__control:checked~label.sk-toggleable__label-arrow:before {content: \"▾\";}#sk-container-id-1 div.sk-estimator input.sk-toggleable__control:checked~label.sk-toggleable__label {background-color: #d4ebff;}#sk-container-id-1 div.sk-label input.sk-toggleable__control:checked~label.sk-toggleable__label {background-color: #d4ebff;}#sk-container-id-1 input.sk-hidden--visually {border: 0;clip: rect(1px 1px 1px 1px);clip: rect(1px, 1px, 1px, 1px);height: 1px;margin: -1px;overflow: hidden;padding: 0;position: absolute;width: 1px;}#sk-container-id-1 div.sk-estimator {font-family: monospace;background-color: #f0f8ff;border: 1px dotted black;border-radius: 0.25em;box-sizing: border-box;margin-bottom: 0.5em;}#sk-container-id-1 div.sk-estimator:hover {background-color: #d4ebff;}#sk-container-id-1 div.sk-parallel-item::after {content: \"\";width: 100%;border-bottom: 1px solid gray;flex-grow: 1;}#sk-container-id-1 div.sk-label:hover label.sk-toggleable__label {background-color: #d4ebff;}#sk-container-id-1 div.sk-serial::before {content: \"\";position: absolute;border-left: 1px solid gray;box-sizing: border-box;top: 0;bottom: 0;left: 50%;z-index: 0;}#sk-container-id-1 div.sk-serial {display: flex;flex-direction: column;align-items: center;background-color: white;padding-right: 0.2em;padding-left: 0.2em;position: relative;}#sk-container-id-1 div.sk-item {position: relative;z-index: 1;}#sk-container-id-1 div.sk-parallel {display: flex;align-items: stretch;justify-content: center;background-color: white;position: relative;}#sk-container-id-1 div.sk-item::before, #sk-container-id-1 div.sk-parallel-item::before {content: \"\";position: absolute;border-left: 1px solid gray;box-sizing: border-box;top: 0;bottom: 0;left: 50%;z-index: -1;}#sk-container-id-1 div.sk-parallel-item {display: flex;flex-direction: column;z-index: 1;position: relative;background-color: white;}#sk-container-id-1 div.sk-parallel-item:first-child::after {align-self: flex-end;width: 50%;}#sk-container-id-1 div.sk-parallel-item:last-child::after {align-self: flex-start;width: 50%;}#sk-container-id-1 div.sk-parallel-item:only-child::after {width: 0;}#sk-container-id-1 div.sk-dashed-wrapped {border: 1px dashed gray;margin: 0 0.4em 0.5em 0.4em;box-sizing: border-box;padding-bottom: 0.4em;background-color: white;}#sk-container-id-1 div.sk-label label {font-family: monospace;font-weight: bold;display: inline-block;line-height: 1.2em;}#sk-container-id-1 div.sk-label-container {text-align: center;}#sk-container-id-1 div.sk-container {/* jupyter's `normalize.less` sets `[hidden] { display: none; }` but bootstrap.min.css set `[hidden] { display: none !important; }` so we also need the `!important` here to be able to override the default hidden behavior on the sphinx rendered scikit-learn.org. See: https://github.com/scikit-learn/scikit-learn/issues/21755 */display: inline-block !important;position: relative;}#sk-container-id-1 div.sk-text-repr-fallback {display: none;}</style><div id=\"sk-container-id-1\" class=\"sk-top-container\"><div class=\"sk-text-repr-fallback\"><pre>KMeans(max_iter=100, n_clusters=10, n_init=1)</pre><b>In a Jupyter environment, please rerun this cell to show the HTML representation or trust the notebook. <br />On GitHub, the HTML representation is unable to render, please try loading this page with nbviewer.org.</b></div><div class=\"sk-container\" hidden><div class=\"sk-item\"><div class=\"sk-estimator sk-toggleable\"><input class=\"sk-toggleable__control sk-hidden--visually\" id=\"sk-estimator-id-1\" type=\"checkbox\" checked><label for=\"sk-estimator-id-1\" class=\"sk-toggleable__label sk-toggleable__label-arrow\">KMeans</label><div class=\"sk-toggleable__content\"><pre>KMeans(max_iter=100, n_clusters=10, n_init=1)</pre></div></div></div></div></div>"
      ],
      "text/plain": [
       "KMeans(max_iter=100, n_clusters=10, n_init=1)"
      ]
     },
     "execution_count": 12,
     "metadata": {},
     "output_type": "execute_result"
    }
   ],
   "source": [
    "true_k = 10\n",
    "model = KMeans(n_clusters=true_k, init='k-means++', max_iter=100, n_init=1)\n",
    "model.fit(X)"
   ]
  },
  {
   "cell_type": "markdown",
   "metadata": {},
   "source": [
    "## Defining a Clustering Function\n",
    "#### A function to print the top terms in each cluster."
   ]
  },
  {
   "cell_type": "code",
   "execution_count": 13,
   "metadata": {},
   "outputs": [],
   "source": [
    "def print_cluster(i):\n",
    "    print(\"Cluster %d:\" % i)\n",
    "    order_centroids = model.cluster_centers_.argsort()[:, ::-1]\n",
    "    terms = vectorizer.get_feature_names_out()\n",
    "    for ind in order_centroids[i, :10]:\n",
    "        print(' %s' % terms[ind])"
   ]
  },
  {
   "cell_type": "markdown",
   "metadata": {},
   "source": [
    "## Determine Optimal Clusters and Display Top Terms\n",
    "#### Fits the K-Means model with 'true_k' clusters and prints the top terms for each cluster."
   ]
  },
  {
   "cell_type": "code",
   "execution_count": 14,
   "metadata": {},
   "outputs": [
    {
     "name": "stdout",
     "output_type": "stream",
     "text": [
      "Top terms per cluster:\n",
      "Cluster 0:\n",
      " b001ma0qy2\n",
      " b0009v1yr8\n",
      " b0043oyfku\n",
      " b0000yuxi0\n",
      " b003v265qw\n",
      " b000zmbspe\n",
      " b003bq6qxk\n",
      " b004ohqr1q\n",
      " b00121uvu0\n",
      " b000fs05vg\n",
      "Cluster 1:\n",
      " b001dkk7y0\n",
      " b00lu0ltou\n",
      " b002rcxs1c\n",
      " b002rcxl3m\n",
      " b002rcxjei\n",
      " b002rcxj0c\n",
      " b002rcw6qa\n",
      " b002rcqj2w\n",
      " b002rcqifu\n",
      " b002rcoyvk\n",
      "Cluster 2:\n",
      " b0006b66d8\n",
      " b00lu0ltou\n",
      " b002rcz6p8\n",
      " b002rcxs1c\n",
      " b002rcxr9u\n",
      " b002rcxl3m\n",
      " b002rcxjei\n",
      " b002rcxj0c\n",
      " b002rcw6qa\n",
      " b002rcqj2w\n",
      "Cluster 3:\n",
      " b0009oai8g\n",
      " b00lu0ltou\n",
      " b002rcz6p8\n",
      " b002rcxs1c\n",
      " b002rcxr9u\n",
      " b002rcxl3m\n",
      " b002rcxjei\n",
      " b002rcxj0c\n",
      " b002rcw6qa\n",
      " b002rcqj2w\n",
      "Cluster 4:\n",
      " b0002z8hai\n",
      " b00lu0ltou\n",
      " b002rch4zi\n",
      " b002rcxs1c\n",
      " b002rcxr9u\n",
      " b002rcxl3m\n",
      " b002rcxjei\n",
      " b002rcxj0c\n",
      " b002rcw6qa\n",
      " b002rcqj2w\n",
      "Cluster 5:\n",
      " b00ae078tm\n",
      " b00lu0ltou\n",
      " b002rcf6mq\n",
      " b002rcxjei\n",
      " b002rcxj0c\n",
      " b002rcw6qa\n",
      " b002rcqj2w\n",
      " b002rcqifu\n",
      " b002rcoyvk\n",
      " b002rcoh7g\n",
      "Cluster 6:\n",
      " b00d6edgye\n",
      " b00lu0ltou\n",
      " b002rcf6mq\n",
      " b002rcxl3m\n",
      " b002rcxjei\n",
      " b002rcxj0c\n",
      " b002rcw6qa\n",
      " b002rcqj2w\n",
      " b002rcqifu\n",
      " b002rcoyvk\n",
      "Cluster 7:\n",
      " b0038baxjg\n",
      " b00lu0ltou\n",
      " b002rcz6i0\n",
      " b002rcxr9u\n",
      " b002rcxl3m\n",
      " b002rcxjei\n",
      " b002rcxj0c\n",
      " b002rcw6qa\n",
      " b002rcqj2w\n",
      " b002rcqifu\n",
      "Cluster 8:\n",
      " b000wmhkd6\n",
      " b00lu0ltou\n",
      " b002rcz6p8\n",
      " b002rcxs1c\n",
      " b002rcxr9u\n",
      " b002rcxl3m\n",
      " b002rcxjei\n",
      " b002rcxj0c\n",
      " b002rcw6qa\n",
      " b002rcqj2w\n",
      "Cluster 9:\n",
      " b008cedy5o\n",
      " b00lu0ltou\n",
      " b002rch4zi\n",
      " b002rcxr9u\n",
      " b002rcxl3m\n",
      " b002rcxjei\n",
      " b002rcxj0c\n",
      " b002rcw6qa\n",
      " b002rcqj2w\n",
      " b002rcqifu\n"
     ]
    }
   ],
   "source": [
    "true_k = 10\n",
    "\n",
    "model = KMeans(n_clusters=true_k, init='k-means++', max_iter=100, n_init=1)\n",
    "model.fit(X)\n",
    "\n",
    "print(\"Top terms per cluster:\")\n",
    "order_centroids = model.cluster_centers_.argsort()[:, ::-1]\n",
    "terms = vectorizer.get_feature_names_out()\n",
    "for i in range(true_k):\n",
    "    print_cluster(i)"
   ]
  },
  {
   "cell_type": "markdown",
   "metadata": {},
   "source": [
    "## Defining Recommendation Function\n",
    "####  A function that takes a product name, predicts its cluster, and prints the top terms of that cluster."
   ]
  },
  {
   "cell_type": "code",
   "execution_count": 15,
   "metadata": {},
   "outputs": [],
   "source": [
    "def show_recommendations(product):\n",
    "    Y = vectorizer.transform([product])\n",
    "    prediction = model.predict(Y)\n",
    "    print_cluster(prediction[0])"
   ]
  },
  {
   "cell_type": "markdown",
   "metadata": {},
   "source": [
    "## Testing Recommendations\n",
    "#### Calls show_recommendations with different product names to see the cluster and its top terms."
   ]
  },
  {
   "cell_type": "code",
   "execution_count": 18,
   "metadata": {},
   "outputs": [
    {
     "name": "stdout",
     "output_type": "stream",
     "text": [
      "Cluster 0:\n",
      " b001ma0qy2\n",
      " b0009v1yr8\n",
      " b0043oyfku\n",
      " b0000yuxi0\n",
      " b003v265qw\n",
      " b000zmbspe\n",
      " b003bq6qxk\n",
      " b004ohqr1q\n",
      " b00121uvu0\n",
      " b000fs05vg\n",
      "Cluster 0:\n",
      " b001ma0qy2\n",
      " b0009v1yr8\n",
      " b0043oyfku\n",
      " b0000yuxi0\n",
      " b003v265qw\n",
      " b000zmbspe\n",
      " b003bq6qxk\n",
      " b004ohqr1q\n",
      " b00121uvu0\n",
      " b000fs05vg\n",
      "Cluster 0:\n",
      " b001ma0qy2\n",
      " b0009v1yr8\n",
      " b0043oyfku\n",
      " b0000yuxi0\n",
      " b003v265qw\n",
      " b000zmbspe\n",
      " b003bq6qxk\n",
      " b004ohqr1q\n",
      " b00121uvu0\n",
      " b000fs05vg\n",
      "Cluster 0:\n",
      " b001ma0qy2\n",
      " b0009v1yr8\n",
      " b0043oyfku\n",
      " b0000yuxi0\n",
      " b003v265qw\n",
      " b000zmbspe\n",
      " b003bq6qxk\n",
      " b004ohqr1q\n",
      " b00121uvu0\n",
      " b000fs05vg\n"
     ]
    }
   ],
   "source": [
    "show_recommendations(\"cutting tool\")\n",
    "show_recommendations(\"spray paint\")\n",
    "show_recommendations(\"steel drill\")\n",
    "show_recommendations(\"water\")"
   ]
  },
  {
   "cell_type": "markdown",
   "metadata": {},
   "source": [
    "# Conclusion\n",
    "\n",
    "### Explaination of Key Steps:\n",
    "\n",
    "#### Data Loading and Preprocessing:\n",
    "\n",
    "***Load the dataset and clean it by removing missing value***\n",
    "\n",
    "#### Vectorization:\n",
    "\n",
    "***Convert the product names into numerical features using TF-IDF vectorization.***\n",
    "\n",
    "#### Clustering:\n",
    "\n",
    "***Use K-Means clustering to group similar products based on their names.***\n",
    "\n",
    "#### Cluster Analysis:\n",
    "\n",
    "***Define functions to print the clusters and recommend products based on their clusters.***\n",
    "\n",
    "#### Recommendations Systems\n",
    "\n",
    "***Given a product name, predict which cluster it belongs to and display the top terms of that cluster to give similar product recommendations***"
   ]
  }
 ],
 "metadata": {
  "kernelspec": {
   "display_name": "Python 3",
   "language": "python",
   "name": "python3"
  },
  "language_info": {
   "codemirror_mode": {
    "name": "ipython",
    "version": 3
   },
   "file_extension": ".py",
   "mimetype": "text/x-python",
   "name": "python",
   "nbconvert_exporter": "python",
   "pygments_lexer": "ipython3",
   "version": "3.10.11"
  }
 },
 "nbformat": 4,
 "nbformat_minor": 2
}
